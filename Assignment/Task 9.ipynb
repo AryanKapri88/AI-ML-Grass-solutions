{
 "cells": [
  {
   "cell_type": "markdown",
   "id": "a8aae35c",
   "metadata": {},
   "source": [
    "Q1) Write a Python program to check whether a number is negative, positive or zero"
   ]
  },
  {
   "cell_type": "code",
   "execution_count": 1,
   "id": "90f78c87",
   "metadata": {},
   "outputs": [
    {
     "name": "stdout",
     "output_type": "stream",
     "text": [
      "Enter the number: 4\n",
      "The number 4 is positive.\n"
     ]
    }
   ],
   "source": [
    "num=int(input('Enter the number: '))\n",
    "if num==0:\n",
    "    print(f'The number {num} is zero.')\n",
    "elif num>0:\n",
    "    print(f'The number {num} is positive.')\n",
    "else:\n",
    "    print(f'The number {num} is negative.')"
   ]
  },
  {
   "cell_type": "markdown",
   "id": "5c4429a0",
   "metadata": {},
   "source": [
    "Q2) Write a Python program to check whether a number is divisible by 5 and 11 or not. "
   ]
  },
  {
   "cell_type": "code",
   "execution_count": 2,
   "id": "f7be1a7b",
   "metadata": {},
   "outputs": [
    {
     "name": "stdout",
     "output_type": "stream",
     "text": [
      "Enter the number: 23\n",
      "The number 23 is not divisible by 5 and 11\n"
     ]
    }
   ],
   "source": [
    "x=int(input(\"Enter the number: \"))\n",
    "if x%5==0 and x%11==0:\n",
    "    print(f\"The number {x} is divisible by 5 and 11\")\n",
    "else:\n",
    "    print(f\"The number {x} is not divisible by 5 and 11\")"
   ]
  },
  {
   "cell_type": "markdown",
   "id": "60ef8af7",
   "metadata": {},
   "source": [
    "Q3) Write a Python program to check whether a year is leap year or not."
   ]
  },
  {
   "cell_type": "code",
   "execution_count": 3,
   "id": "1b382cf6",
   "metadata": {},
   "outputs": [
    {
     "name": "stdout",
     "output_type": "stream",
     "text": [
      "Enter the year: 456\n",
      "The year 456 is a leap year\n"
     ]
    }
   ],
   "source": [
    "y=int(input('Enter the year: '))\n",
    "\n",
    "if y%4==0 and (y%400==0 or y%100!=0) :\n",
    "     print(f'The year {y} is a leap year')\n",
    "else:\n",
    "    print(f'The year {y} is not a leap year')"
   ]
  },
  {
   "cell_type": "markdown",
   "id": "bafcbc9f",
   "metadata": {},
   "source": [
    "Q4) Write a Python program to check whether a character is alphabet or not. "
   ]
  },
  {
   "cell_type": "code",
   "execution_count": 4,
   "id": "a5162c65",
   "metadata": {},
   "outputs": [
    {
     "name": "stdout",
     "output_type": "stream",
     "text": [
      " Enter a character: t\n",
      "True\n"
     ]
    }
   ],
   "source": [
    "char=(input(' Enter a character: '))\n",
    "print(char.isalpha())"
   ]
  },
  {
   "cell_type": "markdown",
   "id": "aeea28d4",
   "metadata": {},
   "source": [
    "Q5) Write a Python program to input any alphabet and check whether it is vowel or consonant."
   ]
  },
  {
   "cell_type": "code",
   "execution_count": 5,
   "id": "4cc38746",
   "metadata": {},
   "outputs": [
    {
     "name": "stdout",
     "output_type": "stream",
     "text": [
      "Enter a character: T\n",
      "The character T is consonant.\n"
     ]
    }
   ],
   "source": [
    "char= input('Enter a character: ')\n",
    "if char=='a' or char=='e' or char=='i' or char=='o' or char=='u':\n",
    "    print(f'The character {char} is vowel.')\n",
    "elif char=='A' or char=='E' or char=='I' or char=='O' or char=='U':\n",
    "    print(f'The character {char} is vowel.')\n",
    "else:\n",
    "    print(f'The character {char} is consonant.')"
   ]
  },
  {
   "cell_type": "markdown",
   "id": "2c5fb198",
   "metadata": {},
   "source": [
    "Q6)  Write a Python program to input any character and check whether it is alphabet, digit or special character."
   ]
  },
  {
   "cell_type": "code",
   "execution_count": 6,
   "id": "597ff493",
   "metadata": {},
   "outputs": [
    {
     "name": "stdout",
     "output_type": "stream",
     "text": [
      "Enter a character: &\n",
      "The character & is a special character\n"
     ]
    }
   ],
   "source": [
    "y=input('Enter a character: ')\n",
    "if y>='a' and y<='z':\n",
    "    print(f\"The character {y} is an alphabet\")\n",
    "elif y>='A' and y<='Z':\n",
    "    print(f\"The character {y} is an alphabet\")\n",
    "elif y>='0' and y<='9':\n",
    "    print(f\"The character {y} is a digit\")\n",
    "else:\n",
    "    print(f\"The character {y} is a special character\")"
   ]
  },
  {
   "cell_type": "markdown",
   "id": "6eed148f",
   "metadata": {},
   "source": [
    "Q7) Write a Python program to check whether a character is uppercase or lowercase alphabet. "
   ]
  },
  {
   "cell_type": "code",
   "execution_count": 7,
   "id": "23fb49ac",
   "metadata": {},
   "outputs": [
    {
     "name": "stdout",
     "output_type": "stream",
     "text": [
      "Enter a character: S\n",
      "The character S is uppercase.\n"
     ]
    }
   ],
   "source": [
    "x=input('Enter a character: ')\n",
    "if x.isupper():\n",
    "    print(f\"The character {x} is uppercase.\")\n",
    "if x.islower():\n",
    "    print(f\"The character {x} is lowercase.\")"
   ]
  },
  {
   "cell_type": "markdown",
   "id": "93eb58d5",
   "metadata": {},
   "source": [
    "Q8) Write a Python program to input week number and print weekday. "
   ]
  },
  {
   "cell_type": "code",
   "execution_count": 9,
   "id": "dab1e98f",
   "metadata": {},
   "outputs": [
    {
     "name": "stdout",
     "output_type": "stream",
     "text": [
      "Enter the weekday (1-7): 6\n",
      "It is Friday\n"
     ]
    }
   ],
   "source": [
    "weekday=int(input('Enter the weekday (1-7): '))\n",
    "\n",
    "if weekday==1:\n",
    "    print('It is Sunday.')\n",
    "elif weekday==2:\n",
    "    print('It is Monday')\n",
    "elif weekday==3:\n",
    "    print('It is Tuesday')\n",
    "elif weekday==4:\n",
    "    print('It is Wednesday')\n",
    "elif weekday==5:\n",
    "    print('It is Thursday')\n",
    "elif weekday==6:\n",
    "    print('It is Friday')\n",
    "elif weekday==7:\n",
    "    print('It is Saturday')\n",
    "else:\n",
    "    print('Invalid weekday')"
   ]
  },
  {
   "cell_type": "markdown",
   "id": "7e345268",
   "metadata": {},
   "source": [
    "Q9) Write a Python program to input angles of a triangle and check whether triangle is valid or not. "
   ]
  },
  {
   "cell_type": "code",
   "execution_count": 10,
   "id": "fbd24b28",
   "metadata": {},
   "outputs": [
    {
     "name": "stdout",
     "output_type": "stream",
     "text": [
      "Enter the angle of 1st side: 40\n",
      "Enter the angle of 2nd side: 60\n",
      "Enter the angle of 3rd side: 80\n",
      "The given angles is a triangle.\n"
     ]
    }
   ],
   "source": [
    "a=int(input('Enter the angle of 1st side: '))\n",
    "b=int(input('Enter the angle of 2nd side: '))\n",
    "c=int(input('Enter the angle of 3rd side: '))\n",
    "if (a+b+c)==180:\n",
    "    print('The given angles is a triangle.')\n",
    "else:\n",
    "    print(\"The given angles isn't a triangle.\")"
   ]
  },
  {
   "cell_type": "markdown",
   "id": "4cefa837",
   "metadata": {},
   "source": [
    "Q10) Write a Python program to input all sides of a triangle and check whether triangle is valid or not. "
   ]
  },
  {
   "cell_type": "code",
   "execution_count": 12,
   "id": "ea983510",
   "metadata": {},
   "outputs": [
    {
     "name": "stdout",
     "output_type": "stream",
     "text": [
      "Enter the 1st side of a triangle: 4\n",
      "Enter the 2nd side of a triangle: 5\n",
      "Enter the 3rd side of a triangle: 8\n",
      "The given sides of a triangle is valid.\n"
     ]
    }
   ],
   "source": [
    "a=int(input('Enter the 1st side of a triangle: '))\n",
    "b=int(input('Enter the 2nd side of a triangle: '))\n",
    "c=int(input('Enter the 3rd side of a triangle: '))\n",
    "if (a+b)>c and (a+c)>b and (b+c)>a:\n",
    "    print('The given sides of a triangle is valid.')\n",
    "else:\n",
    "    print('The given sides of a triangle is not valid.')"
   ]
  },
  {
   "cell_type": "markdown",
   "id": "085c69f5",
   "metadata": {},
   "source": [
    "Q11) Write a Python program to check whether the triangle is equilateral, isosceles or scalene triangle. "
   ]
  },
  {
   "cell_type": "code",
   "execution_count": 14,
   "id": "21eddd30",
   "metadata": {},
   "outputs": [
    {
     "name": "stdout",
     "output_type": "stream",
     "text": [
      "Enter the 1st side of a triangle: 3\n",
      "Enter the 2nd side of a triangle: 3\n",
      "Enter the 3rd side of a triangle: 6\n",
      "The given triangle is isoceles triangle.\n"
     ]
    }
   ],
   "source": [
    "a=int(input('Enter the 1st side of a triangle: '))\n",
    "b=int(input('Enter the 2nd side of a triangle: '))\n",
    "c=int(input('Enter the 3rd side of a triangle: '))\n",
    "if a==b and b==c:\n",
    "    print('The given triangle is equilateral triangle.')\n",
    "elif a==b or b==c or c==a:\n",
    "    print('The given triangle is isoceles triangle.')\n",
    "else:\n",
    "    print('The given triangle is scalene triangle.')"
   ]
  },
  {
   "cell_type": "markdown",
   "id": "1909027e",
   "metadata": {},
   "source": [
    "Q12) Write a Python program to input marks of five subjects Physics, Chemistry, Biology, Mathematics and Computer. Calculate percentage and grade according to following:  \n",
    "\n",
    "                   Percentage >= 90% : Grade A \n",
    "\n",
    "                   Percentage >= 80% : Grade B  \n",
    "\n",
    "                   Percentage >= 70% : Grade C  \n",
    "\n",
    "                   Percentage >= 60% : Grade D  \n",
    "\n",
    "                   Percentage >= 40% : Grade E \n",
    "\n",
    "                   Percentage < 40% : Grade F "
   ]
  },
  {
   "cell_type": "code",
   "execution_count": 18,
   "id": "3bb49f2e",
   "metadata": {},
   "outputs": [
    {
     "name": "stdout",
     "output_type": "stream",
     "text": [
      "Enter the marks of your physics subject: 78\n",
      "Enter the marks of your chemistry subject: 76\n",
      "Enter the marks of your biology subject: 78\n",
      "Enter the marks of your mathematics subject: 98\n",
      "Enter the marks of your computer subject: 67\n",
      "Your total marks is:  397\n",
      "Your percentage is 79.4%\n",
      "Grade C\n"
     ]
    }
   ],
   "source": [
    "sub1=int(input('Enter the marks of your physics subject: '))\n",
    "sub2=int(input('Enter the marks of your chemistry subject: '))\n",
    "sub3=int(input('Enter the marks of your biology subject: '))\n",
    "sub4=int(input('Enter the marks of your mathematics subject: '))\n",
    "sub5=int(input('Enter the marks of your computer subject: '))\n",
    "\n",
    "total=sub1+sub2+sub3+sub4+sub5\n",
    "print('Your total marks is: ', total)\n",
    "percent=(total/500)*100\n",
    "print(f'Your percentage is {percent}%')\n",
    "\n",
    "if percent>90:\n",
    "    print(\"Grade A\")\n",
    "elif percent>80:\n",
    "    print(\"Grade B\")\n",
    "elif percent>70:\n",
    "    print('Grade C')\n",
    "elif percent>60:\n",
    "    print('Grade D')\n",
    "elif percent>40:\n",
    "    print('Grade E')\n",
    "elif percent<40:\n",
    "    print('Grade F')"
   ]
  },
  {
   "cell_type": "markdown",
   "id": "660f05c8",
   "metadata": {},
   "source": [
    "Q12) Write a Python program to input basic salary of an employee and calculate its Gross salary according to following:  \n",
    "\n",
    "                Basic Salary <= 10000 : HRA = 20%, DA = 80%  \n",
    "\n",
    "                Basic Salary <= 20000 : HRA = 25%, DA = 90%  \n",
    "\n",
    "                Basic Salary > 20000 : HRA = 30%, DA = 95% "
   ]
  },
  {
   "cell_type": "code",
   "execution_count": 23,
   "id": "e10da4cb",
   "metadata": {},
   "outputs": [
    {
     "name": "stdout",
     "output_type": "stream",
     "text": [
      "Enter the basic salary of an employee: 34000\n",
      "The gross salary of the employee is: 78200.0\n"
     ]
    }
   ],
   "source": [
    "basic_salary=int(input('Enter the basic salary of an employee: '))\n",
    "\n",
    "if basic_salary<=10000:\n",
    "    gross_salary=basic_salary+((20/100)*basic_salary)+((80/100)*basic_salary)\n",
    "elif basic_salary<=20000:\n",
    "    gross_salary=basic_salary+((25/100)*basic_salary)+((90/100)*basic_salary)\n",
    "else:\n",
    "    gross_salary=basic_salary+((35/100)*basic_salary)+((95/100)*basic_salary)\n",
    "    \n",
    "print(f'The gross salary of the employee is: {gross_salary}')"
   ]
  },
  {
   "cell_type": "markdown",
   "id": "7c16b044",
   "metadata": {},
   "source": [
    "Q13) Write a Python Program to input electricity unit charges and calculate total electricity bill according to the given condition:  \n",
    "\n",
    "For first 50 units Rs. 0.50/unit \n",
    "\n",
    "For next 100 units Rs. 0.75/unit \n",
    "\n",
    "For next 100 units Rs. 1.20/unit \n",
    "\n",
    "For unit above 250 Rs. 1.50/unit \n",
    "\n",
    "An additional surcharge of 20% is added to the bill "
   ]
  },
  {
   "cell_type": "code",
   "execution_count": 25,
   "id": "2ec44d97",
   "metadata": {},
   "outputs": [
    {
     "name": "stdout",
     "output_type": "stream",
     "text": [
      "Enter units of electricity used: 5677\n",
      "amount = 10032.6\n"
     ]
    }
   ],
   "source": [
    "unit = int(input(\"Enter units of electricity used: \"))\n",
    "amt = 0\n",
    "if unit <= 50:\n",
    "    amt += unit*0.5\n",
    "elif unit <= 150:\n",
    "    amt += (50*0.5 + (unit-50)*0.75)\n",
    "elif unit <= 250:\n",
    "    amt += (50*0.5 + 100*0.75 + (unit-150)*1.2)\n",
    "elif unit>= 250:\n",
    "    amt += (50*0.5 + 100*0.75 + 100*1.2 + (unit-250)*1.5)\n",
    "amt += 0.2*amt\n",
    "print(f'amount = {amt}')"
   ]
  },
  {
   "cell_type": "code",
   "execution_count": null,
   "id": "ff0c61fc",
   "metadata": {},
   "outputs": [],
   "source": []
  }
 ],
 "metadata": {
  "kernelspec": {
   "display_name": "Python 3 (ipykernel)",
   "language": "python",
   "name": "python3"
  },
  "language_info": {
   "codemirror_mode": {
    "name": "ipython",
    "version": 3
   },
   "file_extension": ".py",
   "mimetype": "text/x-python",
   "name": "python",
   "nbconvert_exporter": "python",
   "pygments_lexer": "ipython3",
   "version": "3.9.7"
  }
 },
 "nbformat": 4,
 "nbformat_minor": 5
}
