{
 "cells": [
  {
   "cell_type": "markdown",
   "id": "adf7f75a",
   "metadata": {},
   "source": [
    "Q1) Explore split, strip, replace, center, title methods of string data type in python.\n",
    "\n",
    "Ans: \n",
    "\n",
    "\tSplit: method is a beneficial tool for manipulating strings. It returns a list of strings after the main string is separated by a delimiter.\n",
    "\n",
    "\tStrip: This method is used to delete all the leading and trailing characters mentioned in its argument.\n",
    "\n",
    "\tReplace: it method returns a copy of the string where the old substring is replaced with the new string. The original string remains unchanged. If the old substring is not found, it returns a copy of the original string.\n",
    "\n",
    "\tCenter: it is method will center align the string, using a specified character.\n",
    "\n",
    "\tTitle: it is method returns a string where the first character   in every word is upper case\n"
   ]
  },
  {
   "cell_type": "code",
   "execution_count": 2,
   "id": "ed8476c3",
   "metadata": {},
   "outputs": [
    {
     "name": "stdout",
     "output_type": "stream",
     "text": [
      "['Hello', 'World']\n",
      "Hello World\n",
      "  Hello Aryan  \n",
      "                        Hello World                         \n",
      "  Hello World  \n"
     ]
    }
   ],
   "source": [
    "string='  Hello World  '\n",
    "print(string.split())\n",
    "print(string.strip())\n",
    "print(string.replace('World', 'Aryan'))\n",
    "print(string.center(60))\n",
    "print(string.title())"
   ]
  },
  {
   "cell_type": "markdown",
   "id": "ebb0eceb",
   "metadata": {},
   "source": [
    "Q2) Explore append, pop, remove, sort methods of list data type. \n",
    "\n",
    "Ans: \n",
    "\n",
    "\tAppend: it is a method appends an element to the end of the list.\n",
    "\n",
    "\tPop:  it is method removes the item at the given index from the list and returns the removed item.\n",
    "\n",
    "\tRemove: it is method removes the first matching element from the list.\n",
    "\n",
    "\tSort: it is a method of sorting the items of a list in ascending or descending order.\n"
   ]
  },
  {
   "cell_type": "code",
   "execution_count": 3,
   "id": "40abbf24",
   "metadata": {},
   "outputs": [
    {
     "name": "stdout",
     "output_type": "stream",
     "text": [
      "['Aryan', 'Binayak', 'Abhinav', 'Pratham', 'Devi']\n",
      "['Aryan', 'Binayak', 'Abhinav', 'Pratham', 'Devi', 'Rishab']\n",
      "Rishab\n",
      "['Binayak', 'Abhinav', 'Pratham', 'Devi']\n",
      "['Abhinav', 'Binayak', 'Devi', 'Pratham']\n"
     ]
    }
   ],
   "source": [
    "list1 = ['Aryan', 'Binayak', 'Abhinav', 'Pratham', 'Devi']\n",
    "print(list1)\n",
    "list1.append(\"Rishab\")\n",
    "print(list1)\n",
    "print(list1.pop())\n",
    "list1.remove(\"Aryan\")\n",
    "print(list1)\n",
    "list1.sort()\n",
    "print(list1)"
   ]
  },
  {
   "cell_type": "markdown",
   "id": "a7106418",
   "metadata": {},
   "source": [
    "Q3) Create 5 real time list to store some useful information in python. Eg -> Language = [ ‘java’, ‘c’, ‘c++’, ‘ruby’ ]."
   ]
  },
  {
   "cell_type": "code",
   "execution_count": 4,
   "id": "45890590",
   "metadata": {},
   "outputs": [
    {
     "name": "stdout",
     "output_type": "stream",
     "text": [
      "['Java', 'C++', 'C', 'SQL', 'PHP', 'HTML', 'CSS']\n",
      "['OOP', 'DSA', 'OS', 'DBMS', 'SE', 'Maths', 'CN']\n"
     ]
    }
   ],
   "source": [
    "language = ['Java', 'C++', 'C', 'SQL', 'PHP', 'HTML', 'CSS']\n",
    "topics = ['OOP', 'DSA', 'OS', 'DBMS', 'SE', 'Maths', 'CN']\n",
    "print(language)\n",
    "print(topics)"
   ]
  },
  {
   "cell_type": "markdown",
   "id": "3b65b1c4",
   "metadata": {},
   "source": [
    "Q4) What is difference between mutable and immutable data types in python?\n",
    "\n",
    "Ans: An object whose internal state can be changed is call mutable. Immutable data type doesn’t allow any change in the object once it has been created.\n"
   ]
  },
  {
   "cell_type": "markdown",
   "id": "829fe448",
   "metadata": {},
   "source": [
    "Q5) What are identifiers, list rules of identifiers in python?\n",
    "\n",
    "Ans: The rules for creating valid identifiers in Python:\n",
    "1.\tThe first character of an identifier must be a letter (a-z, A-Z) or an underscore (_).\n",
    "2.\tThe remaining characters can be letters, underscores, or digits (0-9).\n",
    "3.\tIdentifiers are case-sensitive, meaning that uppercase and lowercase letters are considered different.\n",
    "4.\tPython keywords (reserved words) cannot be used as identifiers. For example, you cannot use 'if', 'else', 'for', 'while', 'def', 'class', etc., as identifiers.\n"
   ]
  },
  {
   "cell_type": "code",
   "execution_count": null,
   "id": "008e9d8f",
   "metadata": {},
   "outputs": [],
   "source": []
  }
 ],
 "metadata": {
  "kernelspec": {
   "display_name": "Python 3 (ipykernel)",
   "language": "python",
   "name": "python3"
  },
  "language_info": {
   "codemirror_mode": {
    "name": "ipython",
    "version": 3
   },
   "file_extension": ".py",
   "mimetype": "text/x-python",
   "name": "python",
   "nbconvert_exporter": "python",
   "pygments_lexer": "ipython3",
   "version": "3.9.7"
  }
 },
 "nbformat": 4,
 "nbformat_minor": 5
}
