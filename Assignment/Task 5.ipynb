{
 "cells": [
  {
   "cell_type": "markdown",
   "id": "7e8652e6",
   "metadata": {},
   "source": [
    "Q1) What is the difference between shallow and deep copy?\n",
    "\n",
    "Ans: In Shallow copy, a copy of the original object is stored and only the reference address is finally copied. Whereas In Deep copy, the copy of the original object and the repetitive copies both are stored."
   ]
  },
  {
   "cell_type": "markdown",
   "id": "7434e8a0",
   "metadata": {},
   "source": [
    "Q2) You want to create a library management application, you need to store data about books, students in your program, how will you store data inside python using list? Create some lists with fake data to store information about library management."
   ]
  },
  {
   "cell_type": "code",
   "execution_count": 5,
   "id": "2683adc6",
   "metadata": {},
   "outputs": [
    {
     "name": "stdout",
     "output_type": "stream",
     "text": [
      "[{'title': 'Harry Potter', 'author': 'J.K. Rowling', 'book no': '78991', 'available': True}, {'title': 'The Da Vinci Code', 'author': 'Dan Brown', 'book no': '90821', 'available': False}, {'title': 'The Shinning', 'author': 'Stephen King', 'book no': '89121', 'available': False}]\n",
      "[{'name': 'Aryan Kapri', 'student_id': '1964', 'books_borrowed': ['The Shinning', 'The Da Vinci Code']}, {'name': 'Ram Bahadur', 'student_id': '1888', 'books_borrowed': []}]\n"
     ]
    }
   ],
   "source": [
    "books = [\n",
    "    {\n",
    "        \"title\": \"Harry Potter\",\n",
    "        \"author\": \"J.K. Rowling\",\n",
    "        \"book no\": \"78991\",\n",
    "        \"available\": True\n",
    "    },\n",
    "    {\n",
    "        \"title\": \"The Da Vinci Code\",\n",
    "        \"author\": \"Dan Brown\",\n",
    "        \"book no\": \"90821\",\n",
    "        \"available\": False\n",
    "    },\n",
    "    {\n",
    "        \"title\": \"The Shinning\",\n",
    "        \"author\": \"Stephen King\",\n",
    "        \"book no\": \"89121\",\n",
    "        \"available\": False\n",
    "    },\n",
    "]\n",
    "\n",
    "students = [\n",
    "    {\n",
    "        \"name\": \"Aryan Kapri\",\n",
    "        \"student_id\": \"1964\",\n",
    "        \"books_borrowed\": [\"The Shinning\", \"The Da Vinci Code\"]\n",
    "    },\n",
    "    {\n",
    "        \"name\": \"Ram Bahadur\",\n",
    "        \"student_id\": \"1888\",\n",
    "        \"books_borrowed\": []\n",
    "    },\n",
    "]\n",
    "print(books)\n",
    "\n",
    "print(students)"
   ]
  },
  {
   "cell_type": "markdown",
   "id": "8a44954e",
   "metadata": {},
   "source": [
    "Q3) This chapter introduced assignment statements, like spam = 10. What is the difference between an expression and a statement?\n",
    "\n",
    "Answer: Expression can be any combination of value, symbol, character. However when that expression is stored or assigned to someone it becomes a statement."
   ]
  },
  {
   "cell_type": "markdown",
   "id": "e1ed4b3b",
   "metadata": {},
   "source": [
    "Q4) Define the following:\n",
    "        \n",
    "*a) Atomic data types/Primary data types*:  These are the simplest form of data that cannot be broken down to any more simpler data. Ex - integer, boolean, float.\n",
    "\n",
    "*b) Secondary Data Type/ User Defined Data Type*: These are made through a collection of atomic data types. Ex - list, string, set, dictionary.\n"
   ]
  },
  {
   "cell_type": "markdown",
   "id": "cb2966fe",
   "metadata": {},
   "source": [
    "  Q5)  What is UDF?\n",
    "\n",
    "Answer:  A user-defined function (UDF) is a function provided by the user of a program or environment, in a context where the usual assumption is that functions are built into the program or environment.\n"
   ]
  },
  {
   "cell_type": "code",
   "execution_count": null,
   "id": "0b68a890",
   "metadata": {},
   "outputs": [],
   "source": []
  }
 ],
 "metadata": {
  "kernelspec": {
   "display_name": "Python 3 (ipykernel)",
   "language": "python",
   "name": "python3"
  },
  "language_info": {
   "codemirror_mode": {
    "name": "ipython",
    "version": 3
   },
   "file_extension": ".py",
   "mimetype": "text/x-python",
   "name": "python",
   "nbconvert_exporter": "python",
   "pygments_lexer": "ipython3",
   "version": "3.9.7"
  }
 },
 "nbformat": 4,
 "nbformat_minor": 5
}
