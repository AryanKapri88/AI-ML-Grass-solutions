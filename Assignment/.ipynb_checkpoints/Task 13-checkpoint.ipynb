{
 "cells": [
  {
   "cell_type": "markdown",
   "id": "9ddf3782",
   "metadata": {},
   "source": [
    "Q1) Write a Python Code to count the Number of Each Vowel in a given string"
   ]
  },
  {
   "cell_type": "code",
   "execution_count": 2,
   "id": "1e89abb4",
   "metadata": {},
   "outputs": [
    {
     "name": "stdout",
     "output_type": "stream",
     "text": [
      "Enter a string: aryan\n",
      "Number of vowels = 2.\n"
     ]
    }
   ],
   "source": [
    "str=input('Enter a string: ')\n",
    "count=0\n",
    "\n",
    "for x in str:\n",
    "    if x=='A' or x=='E' or x=='I' or x=='O' or x=='U':\n",
    "        count+=1\n",
    "    elif x=='a' or x=='e' or x=='i' or x=='o' or x=='u':\n",
    "        count+=1\n",
    "print(f\"Number of vowels = {count}.\")"
   ]
  },
  {
   "cell_type": "markdown",
   "id": "3bbf8a2f",
   "metadata": {},
   "source": [
    "Q2) Write a Python Code to count number of words, characters and number of spaces in a given string."
   ]
  },
  {
   "cell_type": "code",
   "execution_count": 1,
   "id": "3c9a4cf5",
   "metadata": {},
   "outputs": [
    {
     "name": "stdout",
     "output_type": "stream",
     "text": [
      "Enter a string: hello\n",
      "Number of words: 1\n",
      "Number of characters: 5\n",
      "Number of spaces: 0\n"
     ]
    }
   ],
   "source": [
    "def count_statistics(string):\n",
    "    word_count = len(string.split())\n",
    "    char_count = len(string)\n",
    "    space_count = string.count(' ')\n",
    "    \n",
    "    return word_count, char_count, space_count\n",
    "\n",
    "input_string = input(\"Enter a string: \")\n",
    "word_count, char_count, space_count = count_statistics(input_string)\n",
    "print(\"Number of words:\", word_count)\n",
    "print(\"Number of characters:\", char_count)\n",
    "print(\"Number of spaces:\", space_count)"
   ]
  },
  {
   "cell_type": "markdown",
   "id": "3f611f07",
   "metadata": {},
   "source": [
    "Q3) Write a Python Program to remove punctuation from a given string (using loop)"
   ]
  },
  {
   "cell_type": "code",
   "execution_count": 2,
   "id": "a02f5d0b",
   "metadata": {},
   "outputs": [
    {
     "name": "stdout",
     "output_type": "stream",
     "text": [
      "Enter a string: hello! there, how have you been^^\n",
      "The string:  hello! there, how have you been^^\n",
      "After removing punc:  hello there how have you been\n"
     ]
    }
   ],
   "source": [
    "s=input('Enter a string: ')\n",
    "print('The string: ',s)\n",
    "punc='''!()-[]}{;:'\"\\,<>./?@#$%^&*_~'''\n",
    "for i in s:\n",
    "    if i in punc:\n",
    "        s=s.replace(i,'')\n",
    "print('After removing punc: ',s)"
   ]
  },
  {
   "cell_type": "markdown",
   "id": "cbd7daf6",
   "metadata": {},
   "source": [
    "Q4) Write a Python Program to take a mxn matrix input from user and stored in nested list "
   ]
  },
  {
   "cell_type": "code",
   "execution_count": 3,
   "id": "121d504d",
   "metadata": {},
   "outputs": [
    {
     "name": "stdout",
     "output_type": "stream",
     "text": [
      "Enter number of rows : 2\n",
      "Enter number of cols : 3\n",
      "Enter element of row 1 and col 1 : 1\n",
      "Enter element of row 1 and col 2 : 3\n",
      "Enter element of row 1 and col 3 : 4\n",
      "Enter element of row 2 and col 1 : 2\n",
      "Enter element of row 2 and col 2 : 4\n",
      "Enter element of row 2 and col 3 : 5\n",
      "[[1, 3, 4, 2, 4, 5], [1, 3, 4, 2, 4, 5]]\n"
     ]
    }
   ],
   "source": [
    "import pprint\n",
    "def operation(l):\n",
    "    m=int(input(\"Enter number of rows : \"))\n",
    "    n=int(input(\"Enter number of cols : \"))\n",
    "    l1=[]\n",
    "    for i in range(m):\n",
    "        for j in range(n):\n",
    "            l1.append(int(input(f\"Enter element of row {i+1} and col {j+1} : \")))\n",
    "        l.append(l1)\n",
    "l=[]\n",
    "operation(l)\n",
    "print(l)"
   ]
  },
  {
   "cell_type": "markdown",
   "id": "525c4434",
   "metadata": {},
   "source": [
    "Q5) Write a Python Program to add, multiply and transpose two matrices given by user  "
   ]
  },
  {
   "cell_type": "code",
   "execution_count": 5,
   "id": "f2cd0b0a",
   "metadata": {},
   "outputs": [
    {
     "name": "stdout",
     "output_type": "stream",
     "text": [
      "[[2, 4, 6], [5, 7, 5], [3, 1, 7]]\n",
      "[[5, 6, 7], [2, 4, 9], [9, 4, 6]]\n",
      "[[7, 10, 13], [7, 11, 14], [12, 5, 13]]\n",
      "[[72, 52, 86], [84, 78, 128], [80, 50, 72]]\n",
      "[[2, 5, 3], [4, 7, 1], [6, 5, 7]]\n"
     ]
    }
   ],
   "source": [
    "m1=[[2,4,6],[5,7,5],[3,1,7]]\n",
    "m2=[[5,6,7],[2,4,9],[9,4,6]]\n",
    "print(m1)\n",
    "print(m2)\n",
    "\n",
    "def add(x,y):\n",
    "    sum=[]\n",
    "    for i in range(0,3):\n",
    "        a=[]\n",
    "        for j in range(0,3):\n",
    "            a.append(x[i][j]+y[i][j])\n",
    "        sum.append(a)\n",
    "    print(sum)\n",
    "\n",
    "add(m1,m2)\n",
    "\n",
    "def mul(x,y):\n",
    "    prod=[[0,0,0],[0,0,0],[0,0,0]]\n",
    "    for i in range(len(x)):\n",
    "        for j in range(len(y[0])):\n",
    "            for k in range(len(y)):\n",
    "                prod[i][j] += x[i][k] * y[k][j]\n",
    "    print(prod)\n",
    "\n",
    "mul(m1,m2)\n",
    "\n",
    "def transpose(x):\n",
    "    result=[[0,0,0],[0,0,0],[0,0,0]]\n",
    "    for i in range(len(x)):\n",
    "        for j in range(len(x[0])):\n",
    "            result[j][i] = x[i][j]\n",
    "    print(result)\n",
    "\n",
    "transpose(m1)"
   ]
  },
  {
   "cell_type": "code",
   "execution_count": null,
   "id": "2d698f10",
   "metadata": {},
   "outputs": [],
   "source": []
  }
 ],
 "metadata": {
  "kernelspec": {
   "display_name": "Python 3 (ipykernel)",
   "language": "python",
   "name": "python3"
  },
  "language_info": {
   "codemirror_mode": {
    "name": "ipython",
    "version": 3
   },
   "file_extension": ".py",
   "mimetype": "text/x-python",
   "name": "python",
   "nbconvert_exporter": "python",
   "pygments_lexer": "ipython3",
   "version": "3.9.7"
  }
 },
 "nbformat": 4,
 "nbformat_minor": 5
}
