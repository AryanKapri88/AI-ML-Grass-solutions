{
 "cells": [
  {
   "cell_type": "markdown",
   "id": "6eb4b984",
   "metadata": {},
   "source": [
    "Q1) Python Program to Check Palindrome Number "
   ]
  },
  {
   "cell_type": "code",
   "execution_count": 6,
   "id": "71b41018",
   "metadata": {},
   "outputs": [
    {
     "name": "stdout",
     "output_type": "stream",
     "text": [
      "Enter a number: 607\n",
      "607 is not a palindrome\n"
     ]
    }
   ],
   "source": [
    "num=int(input('Enter a number: '))\n",
    "number=num\n",
    "reverse=0\n",
    "while number!=0:\n",
    "    reverse*= 10\n",
    "    reverse+=number%10\n",
    "    number=number//10\n",
    "    \n",
    "if reverse==num:\n",
    "    print(f'{num} is a palindrome')\n",
    "else:\n",
    "    print(f'{num} is not a palindrome')"
   ]
  },
  {
   "cell_type": "markdown",
   "id": "1deebe05",
   "metadata": {},
   "source": [
    "Q2) Python Program to Print all multiples of 3 and 5 in an Interval "
   ]
  },
  {
   "cell_type": "code",
   "execution_count": 7,
   "id": "f124bdf1",
   "metadata": {},
   "outputs": [
    {
     "name": "stdout",
     "output_type": "stream",
     "text": [
      "Enter the lower limit: 30\n",
      "Enter the upper limit: 70\n",
      "30\n",
      "33\n",
      "35\n",
      "36\n",
      "39\n",
      "40\n",
      "42\n",
      "45\n",
      "48\n",
      "50\n",
      "51\n",
      "54\n",
      "55\n",
      "57\n",
      "60\n",
      "63\n",
      "65\n",
      "66\n",
      "69\n",
      "70\n"
     ]
    }
   ],
   "source": [
    "lower=int(input('Enter the lower limit: '))\n",
    "upper=int(input('Enter the upper limit: '))\n",
    "for i in range(lower, upper+1):\n",
    "    if i%5==0 or i%3==0:\n",
    "        print(i)"
   ]
  },
  {
   "cell_type": "markdown",
   "id": "a92a0dd8",
   "metadata": {},
   "source": [
    "Q3) Python Program to Find the Factorial of a Number"
   ]
  },
  {
   "cell_type": "code",
   "execution_count": 10,
   "id": "9b0c4b9f",
   "metadata": {},
   "outputs": [
    {
     "name": "stdout",
     "output_type": "stream",
     "text": [
      "Enter a number: 7\n",
      "5040\n"
     ]
    }
   ],
   "source": [
    "def fact(n):\n",
    "    if n==1:\n",
    "        return 1\n",
    "    else:\n",
    "        return n*fact(n-1)\n",
    "n=int(input('Enter a number: '))\n",
    "print(fact(n))"
   ]
  },
  {
   "cell_type": "markdown",
   "id": "dd9ff7c3",
   "metadata": {},
   "source": [
    "Q4) Python Program to Print the Fibonacci sequence "
   ]
  },
  {
   "cell_type": "code",
   "execution_count": 11,
   "id": "2a320ff5",
   "metadata": {},
   "outputs": [
    {
     "name": "stdout",
     "output_type": "stream",
     "text": [
      "Enter a number: 7\n",
      "0\n",
      "1\n",
      "1\n",
      "2\n",
      "3\n",
      "5\n",
      "8\n"
     ]
    }
   ],
   "source": [
    "n=int(input('Enter a number: '))\n",
    "f1=1\n",
    "f0=0\n",
    "for i in range(0,n):\n",
    "    if i==0 or i==1:\n",
    "        print(i)\n",
    "    else:\n",
    "        temp=f0+f1\n",
    "        f0=f1\n",
    "        f1=temp\n",
    "        print(f1)"
   ]
  },
  {
   "cell_type": "markdown",
   "id": "7f1d41d0",
   "metadata": {},
   "source": [
    "Q5) Python Program to Check Armstrong Number "
   ]
  },
  {
   "cell_type": "code",
   "execution_count": 12,
   "id": "24ccc18a",
   "metadata": {},
   "outputs": [
    {
     "name": "stdout",
     "output_type": "stream",
     "text": [
      "Enter a number: 567\n",
      "567 is not an armstrong number\n"
     ]
    }
   ],
   "source": [
    "n = int(input(\"Enter a number: \"))\n",
    "s = 0\n",
    "num = n\n",
    "while num!=0:\n",
    "    s += (num%10)**3\n",
    "    num = num//10\n",
    "if n==s:\n",
    "    print(f'{n} is an armstrong number')\n",
    "else:\n",
    "    print(f'{n} is not an armstrong number')"
   ]
  }
 ],
 "metadata": {
  "kernelspec": {
   "display_name": "Python 3 (ipykernel)",
   "language": "python",
   "name": "python3"
  },
  "language_info": {
   "codemirror_mode": {
    "name": "ipython",
    "version": 3
   },
   "file_extension": ".py",
   "mimetype": "text/x-python",
   "name": "python",
   "nbconvert_exporter": "python",
   "pygments_lexer": "ipython3",
   "version": "3.9.7"
  }
 },
 "nbformat": 4,
 "nbformat_minor": 5
}
