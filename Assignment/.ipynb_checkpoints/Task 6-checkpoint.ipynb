{
 "cells": [
  {
   "cell_type": "markdown",
   "id": "991f3e68",
   "metadata": {},
   "source": [
    "Q1)  Write down 10 project ideas you want to implement using python.\n",
    "\n",
    "Ans:  \n",
    "\n",
    "1. Alarm Clock with GUI\n",
    "2. Credit Card fraud detection project\n",
    "3. Object Detection & Face Recognition\n",
    "4. Text Extraction from image \n",
    "5. Image Classifier\n",
    "6. Movie Recommendation System\n",
    "7. Spam Mail Classifier\n",
    "8. Convert text to speech in python\n",
    "9. Weather forecasting app\n",
    "10. Library Management System "
   ]
  },
  {
   "cell_type": "markdown",
   "id": "1d782fd5",
   "metadata": {},
   "source": [
    "Q2) Create at least 5 objects using list, dictionary, it will be good if you store realistic data."
   ]
  },
  {
   "cell_type": "code",
   "execution_count": 2,
   "id": "db00c2a5",
   "metadata": {},
   "outputs": [
    {
     "name": "stdout",
     "output_type": "stream",
     "text": [
      "{'items': ['Shirt', 'Jeans', 'Shoes'], 'prices': [2000, 3999, 5999], 'quantities': [1, 2, 1]}\n",
      "{'Math': [78, 85, 92, 88, 90], 'Science': [92, 88, 95, 82, 78], 'English': [85, 90, 88, 92, 95]}\n",
      "[{'title': 'Mission Impossible 7', 'year': 2019, 'actor': ['Tom Cruise'], 'genre': ['Action', 'Thriller'], 'rating': 8.6}, {'title': 'John Wick 4', 'year': 2024, 'actors': ['Keanu Reeves', 'Lance Reddick'], 'genre': ['Action'], 'rating': 8.9}]\n",
      "[{'course': 'Introduction to Python', 'instructor': 'Dan Burn', 'published': 'Fall 2023', 'description': 'An introductory course covering the basics of python programming fundamentals.'}, {'course_name': 'Data Structures and Algorithms', 'instructor': 'Prof. Jane Doe', 'published': 'Spring 2021', 'description': 'A comprehensive study of data structures and algorithms, focusing on their implementation, analysis, and application in solving complex problems.'}]\n"
     ]
    }
   ],
   "source": [
    "shopping = {\n",
    "    \"items\": [\"Shirt\", \"Jeans\", \"Shoes\"],\n",
    "    \"prices\": [2000, 3999, 5999],\n",
    "    \"quantities\": [1, 2, 1]}\n",
    "\n",
    "grades = {\n",
    "    \"Math\": [78, 85, 92, 88, 90],\n",
    "    \"Science\": [92, 88, 95, 82, 78],\n",
    "    \"English\": [85, 90, 88, 92, 95]}\n",
    "\n",
    "movies = [\n",
    "    {\n",
    "        \"title\": \"Mission Impossible 7\",\n",
    "        \"year\": 2019,\n",
    "        \"actor\": [\"Tom Cruise\"],\n",
    "        \"genre\": [\"Action\", \"Thriller\"],\n",
    "        \"rating\": 8.6\n",
    "    },\n",
    "    {\n",
    "        \"title\": \"John Wick 4\",\n",
    "        \"year\": 2024,\n",
    "        \"actors\": [\"Keanu Reeves\", \"Lance Reddick\"],\n",
    "        \"genre\": [\"Action\"],\n",
    "        \"rating\": 8.9\n",
    "    }]\n",
    "\n",
    "\n",
    "course = [\n",
    "    {\n",
    "        \"course\": \"Introduction to Python\",\n",
    "        \"instructor\": \"Dan Burn\",\n",
    "        \"published\": \"Fall 2023\",\n",
    "        \"description\": \"An introductory course covering the basics of python programming fundamentals.\"\n",
    "    },\n",
    "    {\n",
    "        \"course_name\": \"Data Structures and Algorithms\",\n",
    "        \"instructor\": \"Prof. Jane Doe\",\n",
    "        \"published\": \"Spring 2021\",\n",
    "        \"description\": \"A comprehensive study of data structures and algorithms, focusing on their implementation, analysis, and application in solving complex problems.\"\n",
    "}]\n",
    "\n",
    "print(shopping)\n",
    "print(grades)\n",
    "print(movies)\n",
    "print(course)"
   ]
  },
  {
   "cell_type": "markdown",
   "id": "e372e14a",
   "metadata": {},
   "source": [
    "Q3)  What is duck typing in python, what are Dunder or special methods?\n",
    "\n",
    "Answer:  Duck typing is a concept related to dynamic typing, where the type or the class of an object is less important than the method it defines. Using duck typing, we do not check types at all. Instead we check for the presence of a given method or attribute.\n",
    "\n",
    "Methods that allow instances of a class to interact with the built-in functions and operators in python are called dunder methods. Ex: ` __add__, __str__`"
   ]
  },
  {
   "cell_type": "markdown",
   "id": "568587d7",
   "metadata": {},
   "source": [
    "Q4)  What are operators? How many types of operators are there in python?\n",
    "\n",
    "Ans: Operators are special symbols that designate that some sort of computation should be performed.\n",
    "There are 9 types of operators in python:-\n",
    "\n",
    " 1. Assignment \n",
    " 2. Relational\n",
    " 3. Logical\n",
    " 4. Arithmetic\n",
    " 5. Membership\n",
    " 6. Identity\n",
    " 7. Bitwise\n",
    " 8. Shift \n",
    " 9. Unary\n",
    "\n"
   ]
  },
  {
   "cell_type": "code",
   "execution_count": null,
   "id": "b9f41f01",
   "metadata": {},
   "outputs": [],
   "source": []
  }
 ],
 "metadata": {
  "kernelspec": {
   "display_name": "Python 3 (ipykernel)",
   "language": "python",
   "name": "python3"
  },
  "language_info": {
   "codemirror_mode": {
    "name": "ipython",
    "version": 3
   },
   "file_extension": ".py",
   "mimetype": "text/x-python",
   "name": "python",
   "nbconvert_exporter": "python",
   "pygments_lexer": "ipython3",
   "version": "3.9.7"
  }
 },
 "nbformat": 4,
 "nbformat_minor": 5
}
