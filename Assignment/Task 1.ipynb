{
 "cells": [
  {
   "cell_type": "markdown",
   "id": "4c772c39",
   "metadata": {},
   "source": [
    "Q2) List Some Mega Projects hosted in Python.\n",
    "\n",
    "Answer:   \n",
    "\n",
    "\t Database Projets: Management Systems( Library, Hotel, Hospital, School)\n",
    "\n",
    "\tML Projects : Classification\n",
    "\n",
    "\tAI Projects : Chatbots, face detection and recognition, speech recognition, Security\n",
    "\n",
    "\tData Science Projects : Global Terrorism Analysis, Call Data record Analysis\n"
   ]
  },
  {
   "cell_type": "markdown",
   "id": "13945264",
   "metadata": {},
   "source": [
    "Q3) List Python Libraries used in different IT Domains.\n",
    "\n",
    "Answer:  Pandas, numpy, matplotlib, tkinter, sklearn, tensorflow.\n"
   ]
  },
  {
   "cell_type": "markdown",
   "id": "3088eac4",
   "metadata": {},
   "source": [
    "Q4) Create a program and execute a script in python."
   ]
  },
  {
   "cell_type": "code",
   "execution_count": 3,
   "id": "b021a4da",
   "metadata": {},
   "outputs": [
    {
     "name": "stdout",
     "output_type": "stream",
     "text": [
      "Hello World\n",
      "Sum is  50\n"
     ]
    }
   ],
   "source": [
    "print('Hello World')\n",
    "a=45\n",
    "b=5\n",
    "c=a+b\n",
    "print('Sum is ',c)"
   ]
  },
  {
   "cell_type": "code",
   "execution_count": null,
   "id": "55dbabee",
   "metadata": {},
   "outputs": [],
   "source": []
  }
 ],
 "metadata": {
  "kernelspec": {
   "display_name": "Python 3 (ipykernel)",
   "language": "python",
   "name": "python3"
  },
  "language_info": {
   "codemirror_mode": {
    "name": "ipython",
    "version": 3
   },
   "file_extension": ".py",
   "mimetype": "text/x-python",
   "name": "python",
   "nbconvert_exporter": "python",
   "pygments_lexer": "ipython3",
   "version": "3.9.7"
  }
 },
 "nbformat": 4,
 "nbformat_minor": 5
}
